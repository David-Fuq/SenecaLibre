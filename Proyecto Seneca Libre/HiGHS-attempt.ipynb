{
 "cells": [
  {
   "cell_type": "code",
   "execution_count": 2,
   "metadata": {},
   "outputs": [
    {
     "name": "stdout",
     "output_type": "stream",
     "text": [
      "ERROR:   Error parsing options: Option 'A' does not exist\n",
      "ERROR: Solver (asl) returned non-zero return code (4294967295)\n",
      "ERROR: See the solver log above for diagnostic information.\n"
     ]
    },
    {
     "ename": "ApplicationError",
     "evalue": "Solver (asl) did not exit normally",
     "output_type": "error",
     "traceback": [
      "\u001b[1;31m---------------------------------------------------------------------------\u001b[0m",
      "\u001b[1;31mApplicationError\u001b[0m                          Traceback (most recent call last)",
      "Cell \u001b[1;32mIn[2], line 15\u001b[0m\n\u001b[0;32m     12\u001b[0m solver \u001b[38;5;241m=\u001b[39m SolverFactory(\u001b[38;5;124m'\u001b[39m\u001b[38;5;124mhighs\u001b[39m\u001b[38;5;124m'\u001b[39m, executable\u001b[38;5;241m=\u001b[39m\u001b[38;5;124mr\u001b[39m\u001b[38;5;124m'\u001b[39m\u001b[38;5;124mC:\u001b[39m\u001b[38;5;124m\\\u001b[39m\u001b[38;5;124mUsers\u001b[39m\u001b[38;5;124m\\\u001b[39m\u001b[38;5;124mLENOVO\u001b[39m\u001b[38;5;124m\\\u001b[39m\u001b[38;5;124mDesktop\u001b[39m\u001b[38;5;124m\\\u001b[39m\u001b[38;5;124mHiGHS\u001b[39m\u001b[38;5;124m\\\u001b[39m\u001b[38;5;124mbuild\u001b[39m\u001b[38;5;124m\\\u001b[39m\u001b[38;5;124mbin\u001b[39m\u001b[38;5;124m\\\u001b[39m\u001b[38;5;124mhighs.exe\u001b[39m\u001b[38;5;124m'\u001b[39m)\n\u001b[0;32m     14\u001b[0m \u001b[38;5;66;03m# Solve the model\u001b[39;00m\n\u001b[1;32m---> 15\u001b[0m results \u001b[38;5;241m=\u001b[39m solver\u001b[38;5;241m.\u001b[39msolve(model, tee\u001b[38;5;241m=\u001b[39m\u001b[38;5;28;01mTrue\u001b[39;00m)\n\u001b[0;32m     17\u001b[0m \u001b[38;5;66;03m# Print results\u001b[39;00m\n\u001b[0;32m     18\u001b[0m \u001b[38;5;28mprint\u001b[39m(\u001b[38;5;124m\"\u001b[39m\u001b[38;5;124mOptimal value of x:\u001b[39m\u001b[38;5;124m\"\u001b[39m, model\u001b[38;5;241m.\u001b[39mx())\n",
      "File \u001b[1;32mc:\\Users\\LENOVO\\anaconda3\\Lib\\site-packages\\pyomo\\opt\\base\\solvers.py:628\u001b[0m, in \u001b[0;36mOptSolver.solve\u001b[1;34m(self, *args, **kwds)\u001b[0m\n\u001b[0;32m    626\u001b[0m     \u001b[38;5;28;01melif\u001b[39;00m \u001b[38;5;28mhasattr\u001b[39m(_status, \u001b[38;5;124m'\u001b[39m\u001b[38;5;124mlog\u001b[39m\u001b[38;5;124m'\u001b[39m) \u001b[38;5;129;01mand\u001b[39;00m _status\u001b[38;5;241m.\u001b[39mlog:\n\u001b[0;32m    627\u001b[0m         logger\u001b[38;5;241m.\u001b[39merror(\u001b[38;5;124m\"\u001b[39m\u001b[38;5;124mSolver log:\u001b[39m\u001b[38;5;130;01m\\n\u001b[39;00m\u001b[38;5;124m\"\u001b[39m \u001b[38;5;241m+\u001b[39m \u001b[38;5;28mstr\u001b[39m(_status\u001b[38;5;241m.\u001b[39mlog))\n\u001b[1;32m--> 628\u001b[0m     \u001b[38;5;28;01mraise\u001b[39;00m ApplicationError(\u001b[38;5;124m\"\u001b[39m\u001b[38;5;124mSolver (\u001b[39m\u001b[38;5;132;01m%s\u001b[39;00m\u001b[38;5;124m) did not exit normally\u001b[39m\u001b[38;5;124m\"\u001b[39m \u001b[38;5;241m%\u001b[39m \u001b[38;5;28mself\u001b[39m\u001b[38;5;241m.\u001b[39mname)\n\u001b[0;32m    629\u001b[0m solve_completion_time \u001b[38;5;241m=\u001b[39m time\u001b[38;5;241m.\u001b[39mtime()\n\u001b[0;32m    630\u001b[0m \u001b[38;5;28;01mif\u001b[39;00m \u001b[38;5;28mself\u001b[39m\u001b[38;5;241m.\u001b[39m_report_timing:\n",
      "\u001b[1;31mApplicationError\u001b[0m: Solver (asl) did not exit normally"
     ]
    }
   ],
   "source": [
    "from pyomo.environ import *\n",
    "\n",
    "# Define a simple optimization model\n",
    "model = ConcreteModel()\n",
    "model.x = Var(within=NonNegativeReals)\n",
    "model.obj = Objective(expr=model.x**2)\n",
    "\n",
    "# Define the solver path and use HiGHs\n",
    "#solver = SolverFactory('highs')  # Use 'highs' as the solver name\n",
    "\n",
    "# If Pyomo doesn't find HiGHs, specify the full path:\n",
    "solver = SolverFactory('highs', executable=r'C:\\Users\\LENOVO\\Desktop\\HiGHS\\build\\bin\\highs.exe')\n",
    "\n",
    "# Solve the model\n",
    "results = solver.solve(model, tee=True)\n",
    "\n",
    "# Print results\n",
    "print(\"Optimal value of x:\", model.x())\n"
   ]
  },
  {
   "cell_type": "code",
   "execution_count": 3,
   "metadata": {},
   "outputs": [
    {
     "name": "stdout",
     "output_type": "stream",
     "text": [
      "ERROR:   Error parsing options: Option 'A' does not exist\n",
      "ERROR: Solver (asl) returned non-zero return code (4294967295)\n",
      "ERROR: See the solver log above for diagnostic information.\n"
     ]
    },
    {
     "ename": "ApplicationError",
     "evalue": "Solver (asl) did not exit normally",
     "output_type": "error",
     "traceback": [
      "\u001b[1;31m---------------------------------------------------------------------------\u001b[0m",
      "\u001b[1;31mApplicationError\u001b[0m                          Traceback (most recent call last)",
      "Cell \u001b[1;32mIn[3], line 16\u001b[0m\n\u001b[0;32m     13\u001b[0m solver\u001b[38;5;241m.\u001b[39moptions[\u001b[38;5;124m'\u001b[39m\u001b[38;5;124mpresolve\u001b[39m\u001b[38;5;124m'\u001b[39m] \u001b[38;5;241m=\u001b[39m \u001b[38;5;124m'\u001b[39m\u001b[38;5;124mon\u001b[39m\u001b[38;5;124m'\u001b[39m  \u001b[38;5;66;03m# Enable presolve (if applicable)\u001b[39;00m\n\u001b[0;32m     15\u001b[0m \u001b[38;5;66;03m# Solve the model\u001b[39;00m\n\u001b[1;32m---> 16\u001b[0m results \u001b[38;5;241m=\u001b[39m solver\u001b[38;5;241m.\u001b[39msolve(model, tee\u001b[38;5;241m=\u001b[39m\u001b[38;5;28;01mTrue\u001b[39;00m)\n\u001b[0;32m     18\u001b[0m \u001b[38;5;66;03m# Print results\u001b[39;00m\n\u001b[0;32m     19\u001b[0m \u001b[38;5;28mprint\u001b[39m(\u001b[38;5;124m\"\u001b[39m\u001b[38;5;124mOptimal value of x:\u001b[39m\u001b[38;5;124m\"\u001b[39m, model\u001b[38;5;241m.\u001b[39mx())\n",
      "File \u001b[1;32mc:\\Users\\LENOVO\\anaconda3\\Lib\\site-packages\\pyomo\\opt\\base\\solvers.py:628\u001b[0m, in \u001b[0;36mOptSolver.solve\u001b[1;34m(self, *args, **kwds)\u001b[0m\n\u001b[0;32m    626\u001b[0m     \u001b[38;5;28;01melif\u001b[39;00m \u001b[38;5;28mhasattr\u001b[39m(_status, \u001b[38;5;124m'\u001b[39m\u001b[38;5;124mlog\u001b[39m\u001b[38;5;124m'\u001b[39m) \u001b[38;5;129;01mand\u001b[39;00m _status\u001b[38;5;241m.\u001b[39mlog:\n\u001b[0;32m    627\u001b[0m         logger\u001b[38;5;241m.\u001b[39merror(\u001b[38;5;124m\"\u001b[39m\u001b[38;5;124mSolver log:\u001b[39m\u001b[38;5;130;01m\\n\u001b[39;00m\u001b[38;5;124m\"\u001b[39m \u001b[38;5;241m+\u001b[39m \u001b[38;5;28mstr\u001b[39m(_status\u001b[38;5;241m.\u001b[39mlog))\n\u001b[1;32m--> 628\u001b[0m     \u001b[38;5;28;01mraise\u001b[39;00m ApplicationError(\u001b[38;5;124m\"\u001b[39m\u001b[38;5;124mSolver (\u001b[39m\u001b[38;5;132;01m%s\u001b[39;00m\u001b[38;5;124m) did not exit normally\u001b[39m\u001b[38;5;124m\"\u001b[39m \u001b[38;5;241m%\u001b[39m \u001b[38;5;28mself\u001b[39m\u001b[38;5;241m.\u001b[39mname)\n\u001b[0;32m    629\u001b[0m solve_completion_time \u001b[38;5;241m=\u001b[39m time\u001b[38;5;241m.\u001b[39mtime()\n\u001b[0;32m    630\u001b[0m \u001b[38;5;28;01mif\u001b[39;00m \u001b[38;5;28mself\u001b[39m\u001b[38;5;241m.\u001b[39m_report_timing:\n",
      "\u001b[1;31mApplicationError\u001b[0m: Solver (asl) did not exit normally"
     ]
    }
   ],
   "source": [
    "from pyomo.environ import *\n",
    "\n",
    "# Define a simple optimization model\n",
    "model = ConcreteModel()\n",
    "model.x = Var(within=NonNegativeReals)\n",
    "model.obj = Objective(expr=model.x**2)\n",
    "\n",
    "# Define the solver path and use HiGHs\n",
    "solver = SolverFactory('highs', executable=r'C:\\Users\\LENOVO\\Desktop\\HiGHS\\build\\bin\\highs.exe')\n",
    "\n",
    "# Specify HiGHs options if necessary (you can adjust this based on HiGHs documentation)\n",
    "solver.options['output'] = 'normal'  # Example of specifying output verbosity\n",
    "solver.options['presolve'] = 'on'  # Enable presolve (if applicable)\n",
    "\n",
    "# Solve the model\n",
    "results = solver.solve(model, tee=True)\n",
    "\n",
    "# Print results\n",
    "print(\"Optimal value of x:\", model.x())\n"
   ]
  },
  {
   "cell_type": "code",
   "execution_count": 1,
   "metadata": {},
   "outputs": [
    {
     "name": "stdout",
     "output_type": "stream",
     "text": [
      "WARNING: Failed to create solver with name 'appsi_highs': Highs.__init__() got\n",
      "an unexpected keyword argument 'executable'\n",
      "Traceback (most recent call last):\n",
      "  File \"c:\\Users\\LENOVO\\anaconda3\\Lib\\site-packages\\pyomo\\opt\\base\\solvers.py\", line 148, in __call__\n",
      "    opt = self._cls[_name](**kwds)\n",
      "          ^^^^^^^^^^^^^^^^^^^^^^^^\n",
      "TypeError: Highs.__init__() got an unexpected keyword argument 'executable'\n"
     ]
    },
    {
     "ename": "RuntimeError",
     "evalue": "Attempting to use an unavailable solver.\n\nThe SolverFactory was unable to create the solver \"appsi_highs\"\nand returned an UnknownSolver object.  This error is raised at the point\nwhere the UnknownSolver object was used as if it were valid (by calling\nmethod \"solve\").\n\nThe original solver was created with the following parameters:\n\texecutable: C:\\Users\\LENOVO\\Desktop\\HiGHS\\build\\bin\\highs.exe\n\ttype: appsi_highs\n\t_args: ()\n\toptions: {}",
     "output_type": "error",
     "traceback": [
      "\u001b[1;31m---------------------------------------------------------------------------\u001b[0m",
      "\u001b[1;31mRuntimeError\u001b[0m                              Traceback (most recent call last)",
      "Cell \u001b[1;32mIn[1], line 11\u001b[0m\n\u001b[0;32m      8\u001b[0m model\u001b[38;5;241m.\u001b[39mcon2 \u001b[38;5;241m=\u001b[39m pyo\u001b[38;5;241m.\u001b[39mConstraint(expr\u001b[38;5;241m=\u001b[39mmodel\u001b[38;5;241m.\u001b[39mx[\u001b[38;5;241m1\u001b[39m] \u001b[38;5;241m+\u001b[39m \u001b[38;5;241m3\u001b[39m \u001b[38;5;241m*\u001b[39m model\u001b[38;5;241m.\u001b[39mx[\u001b[38;5;241m2\u001b[39m] \u001b[38;5;241m<\u001b[39m\u001b[38;5;241m=\u001b[39m \u001b[38;5;241m5\u001b[39m)\n\u001b[0;32m     10\u001b[0m opt \u001b[38;5;241m=\u001b[39m pyo\u001b[38;5;241m.\u001b[39mSolverFactory(\u001b[38;5;124m'\u001b[39m\u001b[38;5;124mappsi_highs\u001b[39m\u001b[38;5;124m'\u001b[39m, executable\u001b[38;5;241m=\u001b[39m\u001b[38;5;124mr\u001b[39m\u001b[38;5;124m'\u001b[39m\u001b[38;5;124mC:\u001b[39m\u001b[38;5;124m\\\u001b[39m\u001b[38;5;124mUsers\u001b[39m\u001b[38;5;124m\\\u001b[39m\u001b[38;5;124mLENOVO\u001b[39m\u001b[38;5;124m\\\u001b[39m\u001b[38;5;124mDesktop\u001b[39m\u001b[38;5;124m\\\u001b[39m\u001b[38;5;124mHiGHS\u001b[39m\u001b[38;5;124m\\\u001b[39m\u001b[38;5;124mbuild\u001b[39m\u001b[38;5;124m\\\u001b[39m\u001b[38;5;124mbin\u001b[39m\u001b[38;5;124m\\\u001b[39m\u001b[38;5;124mhighs.exe\u001b[39m\u001b[38;5;124m'\u001b[39m)\n\u001b[1;32m---> 11\u001b[0m results \u001b[38;5;241m=\u001b[39m opt\u001b[38;5;241m.\u001b[39msolve(model)\n\u001b[0;32m     13\u001b[0m model\u001b[38;5;241m.\u001b[39mdisplay()\n",
      "File \u001b[1;32mc:\\Users\\LENOVO\\anaconda3\\Lib\\site-packages\\pyomo\\opt\\base\\solvers.py:99\u001b[0m, in \u001b[0;36mUnknownSolver.solve\u001b[1;34m(self, *args, **kwds)\u001b[0m\n\u001b[0;32m     97\u001b[0m \u001b[38;5;28;01mdef\u001b[39;00m \u001b[38;5;21msolve\u001b[39m(\u001b[38;5;28mself\u001b[39m, \u001b[38;5;241m*\u001b[39margs, \u001b[38;5;241m*\u001b[39m\u001b[38;5;241m*\u001b[39mkwds):\n\u001b[0;32m     98\u001b[0m \u001b[38;5;250m    \u001b[39m\u001b[38;5;124;03m\"\"\"Perform optimization and return an SolverResults object.\"\"\"\u001b[39;00m\n\u001b[1;32m---> 99\u001b[0m     \u001b[38;5;28mself\u001b[39m\u001b[38;5;241m.\u001b[39m_solver_error(\u001b[38;5;124m'\u001b[39m\u001b[38;5;124msolve\u001b[39m\u001b[38;5;124m'\u001b[39m)\n",
      "File \u001b[1;32mc:\\Users\\LENOVO\\anaconda3\\Lib\\site-packages\\pyomo\\opt\\base\\solvers.py:116\u001b[0m, in \u001b[0;36mUnknownSolver._solver_error\u001b[1;34m(self, method_name)\u001b[0m\n\u001b[0;32m    115\u001b[0m     \u001b[38;5;28;01mdef\u001b[39;00m \u001b[38;5;21m_solver_error\u001b[39m(\u001b[38;5;28mself\u001b[39m, method_name):\n\u001b[1;32m--> 116\u001b[0m         \u001b[38;5;28;01mraise\u001b[39;00m \u001b[38;5;167;01mRuntimeError\u001b[39;00m(\n\u001b[0;32m    117\u001b[0m \u001b[38;5;250m            \u001b[39m\u001b[38;5;124;03m\"\"\"Attempting to use an unavailable solver.\u001b[39;00m\n\u001b[0;32m    118\u001b[0m \n\u001b[0;32m    119\u001b[0m \u001b[38;5;124;03mThe SolverFactory was unable to create the solver \"%s\"\u001b[39;00m\n\u001b[0;32m    120\u001b[0m \u001b[38;5;124;03mand returned an UnknownSolver object.  This error is raised at the point\u001b[39;00m\n\u001b[0;32m    121\u001b[0m \u001b[38;5;124;03mwhere the UnknownSolver object was used as if it were valid (by calling\u001b[39;00m\n\u001b[0;32m    122\u001b[0m \u001b[38;5;124;03mmethod \"%s\").\u001b[39;00m\n\u001b[0;32m    123\u001b[0m \n\u001b[0;32m    124\u001b[0m \u001b[38;5;124;03mThe original solver was created with the following parameters:\u001b[39;00m\n\u001b[0;32m    125\u001b[0m \u001b[38;5;124;03m\\t\"\"\"\u001b[39;00m\n\u001b[0;32m    126\u001b[0m             \u001b[38;5;241m%\u001b[39m (\u001b[38;5;28mself\u001b[39m\u001b[38;5;241m.\u001b[39mtype, method_name)\n\u001b[0;32m    127\u001b[0m             \u001b[38;5;241m+\u001b[39m \u001b[38;5;124m\"\u001b[39m\u001b[38;5;130;01m\\n\u001b[39;00m\u001b[38;5;130;01m\\t\u001b[39;00m\u001b[38;5;124m\"\u001b[39m\u001b[38;5;241m.\u001b[39mjoin(\u001b[38;5;124m\"\u001b[39m\u001b[38;5;132;01m%s\u001b[39;00m\u001b[38;5;124m: \u001b[39m\u001b[38;5;132;01m%s\u001b[39;00m\u001b[38;5;124m\"\u001b[39m \u001b[38;5;241m%\u001b[39m i \u001b[38;5;28;01mfor\u001b[39;00m i \u001b[38;5;129;01min\u001b[39;00m \u001b[38;5;28msorted\u001b[39m(\u001b[38;5;28mself\u001b[39m\u001b[38;5;241m.\u001b[39m_kwds\u001b[38;5;241m.\u001b[39mitems()))\n\u001b[0;32m    128\u001b[0m             \u001b[38;5;241m+\u001b[39m \u001b[38;5;124m\"\u001b[39m\u001b[38;5;130;01m\\n\u001b[39;00m\u001b[38;5;130;01m\\t\u001b[39;00m\u001b[38;5;124m_args: \u001b[39m\u001b[38;5;132;01m%s\u001b[39;00m\u001b[38;5;124m\"\u001b[39m \u001b[38;5;241m%\u001b[39m (\u001b[38;5;28mself\u001b[39m\u001b[38;5;241m.\u001b[39m_args,)\n\u001b[0;32m    129\u001b[0m             \u001b[38;5;241m+\u001b[39m \u001b[38;5;124m\"\u001b[39m\u001b[38;5;130;01m\\n\u001b[39;00m\u001b[38;5;130;01m\\t\u001b[39;00m\u001b[38;5;124moptions: \u001b[39m\u001b[38;5;132;01m%s\u001b[39;00m\u001b[38;5;124m\"\u001b[39m \u001b[38;5;241m%\u001b[39m (\u001b[38;5;28mself\u001b[39m\u001b[38;5;241m.\u001b[39moptions,)\n\u001b[0;32m    130\u001b[0m         )\n",
      "\u001b[1;31mRuntimeError\u001b[0m: Attempting to use an unavailable solver.\n\nThe SolverFactory was unable to create the solver \"appsi_highs\"\nand returned an UnknownSolver object.  This error is raised at the point\nwhere the UnknownSolver object was used as if it were valid (by calling\nmethod \"solve\").\n\nThe original solver was created with the following parameters:\n\texecutable: C:\\Users\\LENOVO\\Desktop\\HiGHS\\build\\bin\\highs.exe\n\ttype: appsi_highs\n\t_args: ()\n\toptions: {}"
     ]
    }
   ],
   "source": [
    "import pyomo.environ as pyo\n",
    "from highspy import Highs\n",
    "\n",
    "model = pyo.ConcreteModel()\n",
    "model.x = pyo.Var([1, 2], domain=pyo.NonNegativeReals)\n",
    "model.obj = pyo.Objective(expr=model.x[1] + model.x[2])\n",
    "model.con1 = pyo.Constraint(expr=2 * model.x[1] + model.x[2] <= 3)\n",
    "model.con2 = pyo.Constraint(expr=model.x[1] + 3 * model.x[2] <= 5)\n",
    "\n",
    "opt = pyo.SolverFactory('appsi_highs', executable=r'C:\\Users\\LENOVO\\Desktop\\HiGHS\\build\\bin\\highs.exe')\n",
    "results = opt.solve(model)\n",
    "\n",
    "model.display()"
   ]
  },
  {
   "cell_type": "code",
   "execution_count": 1,
   "metadata": {},
   "outputs": [
    {
     "name": "stdout",
     "output_type": "stream",
     "text": [
      "Model unknown\n",
      "\n",
      "  Variables:\n",
      "    x : Size=1, Index=None\n",
      "        Key  : Lower : Value : Upper : Fixed : Stale : Domain\n",
      "        None :     0 :   0.0 :  None : False : False : NonNegativeReals\n",
      "    y : Size=1, Index=None\n",
      "        Key  : Lower : Value : Upper : Fixed : Stale : Domain\n",
      "        None :     0 :  0.25 :  None : False : False : NonNegativeReals\n",
      "\n",
      "  Objectives:\n",
      "    obj : Size=1, Index=None, Active=True\n",
      "        Key  : Active : Value\n",
      "        None :   True :  0.75\n",
      "\n",
      "  Constraints:\n",
      "    con1 : Size=1\n",
      "        Key  : Lower : Body : Upper\n",
      "        None :  None :  1.0 :   1.0\n",
      "    con2 : Size=1\n",
      "        Key  : Lower : Body : Upper\n",
      "        None :  None : 0.25 :   0.5\n"
     ]
    }
   ],
   "source": [
    "import pyomo.environ as pyo\n",
    "from pyomo.contrib.appsi.solvers import Highs\n",
    "\n",
    "#Define the model\n",
    "model = pyo.ConcreteModel()\n",
    "\n",
    "#Define variables\n",
    "model.x = pyo.Var(within=pyo.NonNegativeReals)\n",
    "model.y = pyo.Var(within=pyo.NonNegativeReals)\n",
    "\n",
    "#Define the objective function\n",
    "model.obj = pyo.Objective(expr=2 * model.x + 3 * model.y, sense=pyo.maximize)\n",
    "\n",
    "#Define constraints\n",
    "model.con1 = pyo.Constraint(expr=3 * model.x + 4 * model.y <= 1)\n",
    "model.con2 = pyo.Constraint(expr=2 * model.x + model.y <= 0.5)\n",
    "\n",
    "#Create the HiGHS solver instance\n",
    "solver = Highs()\n",
    "\n",
    "#Solve the model\n",
    "results = solver.solve(model)\n",
    "\n",
    "#Display results\n",
    "model.display()\n"
   ]
  }
 ],
 "metadata": {
  "kernelspec": {
   "display_name": "base",
   "language": "python",
   "name": "python3"
  },
  "language_info": {
   "codemirror_mode": {
    "name": "ipython",
    "version": 3
   },
   "file_extension": ".py",
   "mimetype": "text/x-python",
   "name": "python",
   "nbconvert_exporter": "python",
   "pygments_lexer": "ipython3",
   "version": "3.12.3"
  }
 },
 "nbformat": 4,
 "nbformat_minor": 2
}
